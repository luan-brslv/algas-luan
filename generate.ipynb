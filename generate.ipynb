{
 "cells": [
  {
   "cell_type": "code",
   "execution_count": 64,
   "id": "04e650e2",
   "metadata": {},
   "outputs": [
    {
     "name": "stderr",
     "output_type": "stream",
     "text": [
      "2022-03-13 04:52:40,095 INFO: Gerando dados range: 100000 - 600000, 100000\n"
     ]
    },
    {
     "name": "stdout",
     "output_type": "stream",
     "text": [
      "The memory_profiler extension is already loaded. To reload it, use:\n",
      "  %reload_ext memory_profiler\n",
      "peak memory: 131.77 MiB, increment: 0.00 MiB\n",
      "peak memory: 131.77 MiB, increment: 0.00 MiB\n",
      "peak memory: 131.77 MiB, increment: 0.00 MiB\n",
      "peak memory: 131.77 MiB, increment: 0.00 MiB\n",
      "peak memory: 131.77 MiB, increment: 0.00 MiB\n"
     ]
    },
    {
     "name": "stderr",
     "output_type": "stream",
     "text": [
      "2022-03-13 04:53:07,622 INFO: Enviando dados\n",
      "2022-03-13 04:53:07,636 INFO: Gerando dados range: 1000 - 6000, 100\n"
     ]
    },
    {
     "name": "stdout",
     "output_type": "stream",
     "text": [
      "peak memory: 131.77 MiB, increment: 0.00 MiB\n",
      "peak memory: 131.79 MiB, increment: 0.00 MiB\n",
      "peak memory: 131.79 MiB, increment: 0.00 MiB\n",
      "peak memory: 131.79 MiB, increment: 0.00 MiB\n",
      "peak memory: 131.79 MiB, increment: 0.00 MiB\n",
      "peak memory: 131.79 MiB, increment: 0.00 MiB\n",
      "peak memory: 131.79 MiB, increment: 0.00 MiB\n",
      "peak memory: 131.79 MiB, increment: 0.00 MiB\n",
      "peak memory: 131.79 MiB, increment: 0.00 MiB\n",
      "peak memory: 131.79 MiB, increment: 0.00 MiB\n",
      "peak memory: 131.79 MiB, increment: 0.00 MiB\n",
      "peak memory: 131.79 MiB, increment: 0.00 MiB\n",
      "peak memory: 131.79 MiB, increment: 0.00 MiB\n",
      "peak memory: 131.79 MiB, increment: 0.00 MiB\n",
      "peak memory: 131.79 MiB, increment: 0.00 MiB\n",
      "peak memory: 131.79 MiB, increment: 0.00 MiB\n",
      "peak memory: 131.79 MiB, increment: 0.00 MiB\n",
      "peak memory: 131.79 MiB, increment: 0.00 MiB\n",
      "peak memory: 131.79 MiB, increment: 0.00 MiB\n",
      "peak memory: 131.79 MiB, increment: 0.00 MiB\n",
      "peak memory: 131.79 MiB, increment: 0.00 MiB\n",
      "peak memory: 131.79 MiB, increment: 0.00 MiB\n",
      "peak memory: 131.70 MiB, increment: -0.09 MiB\n",
      "peak memory: 131.70 MiB, increment: 0.00 MiB\n",
      "peak memory: 131.70 MiB, increment: 0.00 MiB\n",
      "peak memory: 131.70 MiB, increment: 0.00 MiB\n",
      "peak memory: 131.70 MiB, increment: 0.00 MiB\n",
      "peak memory: 131.70 MiB, increment: 0.00 MiB\n",
      "peak memory: 131.70 MiB, increment: 0.00 MiB\n",
      "peak memory: 131.70 MiB, increment: 0.00 MiB\n",
      "peak memory: 131.70 MiB, increment: 0.00 MiB\n",
      "peak memory: 131.70 MiB, increment: 0.00 MiB\n",
      "peak memory: 131.70 MiB, increment: 0.00 MiB\n",
      "peak memory: 131.70 MiB, increment: 0.00 MiB\n",
      "peak memory: 131.70 MiB, increment: 0.00 MiB\n",
      "peak memory: 131.70 MiB, increment: 0.00 MiB\n",
      "peak memory: 131.70 MiB, increment: 0.00 MiB\n",
      "peak memory: 131.70 MiB, increment: 0.00 MiB\n",
      "peak memory: 131.70 MiB, increment: 0.00 MiB\n",
      "peak memory: 131.70 MiB, increment: 0.00 MiB\n",
      "peak memory: 131.70 MiB, increment: 0.00 MiB\n",
      "peak memory: 131.70 MiB, increment: 0.00 MiB\n",
      "peak memory: 131.70 MiB, increment: 0.00 MiB\n",
      "peak memory: 131.70 MiB, increment: 0.00 MiB\n",
      "peak memory: 131.70 MiB, increment: 0.00 MiB\n",
      "peak memory: 131.70 MiB, increment: 0.00 MiB\n",
      "peak memory: 131.70 MiB, increment: 0.00 MiB\n",
      "peak memory: 131.70 MiB, increment: 0.00 MiB\n",
      "peak memory: 131.70 MiB, increment: 0.00 MiB\n",
      "peak memory: 131.70 MiB, increment: 0.00 MiB\n",
      "peak memory: 131.70 MiB, increment: 0.00 MiB\n"
     ]
    },
    {
     "name": "stderr",
     "output_type": "stream",
     "text": [
      "2022-03-13 04:56:55,227 INFO: Enviando dados\n",
      "2022-03-13 04:56:55,267 INFO: Gerando dados range: 100 - 600, 100\n"
     ]
    },
    {
     "name": "stdout",
     "output_type": "stream",
     "text": [
      "peak memory: 131.70 MiB, increment: 0.00 MiB\n",
      "peak memory: 131.70 MiB, increment: 0.00 MiB\n",
      "peak memory: 131.70 MiB, increment: 0.00 MiB\n",
      "peak memory: 131.70 MiB, increment: 0.00 MiB\n",
      "peak memory: 131.70 MiB, increment: 0.00 MiB\n",
      "peak memory: 131.70 MiB, increment: 0.00 MiB\n"
     ]
    },
    {
     "name": "stderr",
     "output_type": "stream",
     "text": [
      "2022-03-13 04:57:21,869 INFO: Enviando dados\n",
      "2022-03-13 04:57:21,884 INFO: Gerando dados range: 10 - 60, 10\n"
     ]
    },
    {
     "name": "stdout",
     "output_type": "stream",
     "text": [
      "peak memory: 131.70 MiB, increment: 0.00 MiB\n",
      "peak memory: 131.70 MiB, increment: 0.00 MiB\n",
      "peak memory: 131.70 MiB, increment: 0.00 MiB\n",
      "peak memory: 131.70 MiB, increment: 0.00 MiB\n",
      "peak memory: 131.70 MiB, increment: 0.00 MiB\n",
      "peak memory: 131.70 MiB, increment: 0.00 MiB\n"
     ]
    },
    {
     "name": "stderr",
     "output_type": "stream",
     "text": [
      "2022-03-13 04:57:48,448 INFO: Enviando dados\n",
      "2022-03-13 04:57:48,465 INFO: Gerando dados range: 1000000 - 6000000, 1000000\n"
     ]
    },
    {
     "name": "stdout",
     "output_type": "stream",
     "text": [
      "peak memory: 131.70 MiB, increment: 0.00 MiB\n",
      "peak memory: 131.70 MiB, increment: 0.00 MiB\n",
      "peak memory: 131.70 MiB, increment: 0.00 MiB\n",
      "peak memory: 131.70 MiB, increment: 0.00 MiB\n",
      "peak memory: 131.70 MiB, increment: 0.00 MiB\n",
      "peak memory: 131.70 MiB, increment: 0.00 MiB\n"
     ]
    },
    {
     "name": "stderr",
     "output_type": "stream",
     "text": [
      "2022-03-13 04:58:15,718 INFO: Enviando dados\n"
     ]
    },
    {
     "name": "stdout",
     "output_type": "stream",
     "text": [
      "peak memory: 131.70 MiB, increment: 0.00 MiB\n"
     ]
    }
   ],
   "source": [
    "import time\n",
    "import pymysql.cursors\n",
    "import pandas as pd\n",
    "import logging\n",
    "\n",
    "%load_ext memory_profiler\n",
    "\n",
    "def main(startValue, endValue, jumpValue):\n",
    "    logging.basicConfig(format='%(asctime)s %(levelname)s: %(message)s')\n",
    "    log = logging.getLogger()\n",
    "    log.setLevel(logging.INFO)\n",
    "    \n",
    "    log.info(f\"Gerando dados range: {startValue} - {endValue}, {jumpValue}\")\n",
    "    start = time.time()\n",
    "    dados = [gerar_dado(i) for i in range(startValue, endValue, jumpValue)]\n",
    "    mem = %memit -o\n",
    "    end = time.time()\n",
    "    dadosRange = {'range_value': f\"{startValue} - {endValue}, {jumpValue}\", 'time_spent': round((end - start), 2), 'memory_usage': str(mem).split()[2]}\n",
    "    \n",
    "    log.info(\"Enviando dados\")\n",
    "    id_range = enviar_dados_range(dadosRange)\n",
    "    enviar_dados(dados, id_range)\n",
    "    \n",
    "def gerar_dado(n):\n",
    "    start = time.time()\n",
    "    acumul = 0\n",
    "    for i in range(1, n+1):\n",
    "        acumul += i\n",
    "    end = time.time()\n",
    "    mem = %memit -o\n",
    "    return { 'iterador': i, 'acumul': acumul, 'time_spent': round((end - start), 7), 'memory_usage': str(mem).split()[2] }\n",
    "\n",
    "def executar_connection():\n",
    "    return pymysql.connect(host='localhost',\n",
    "                                 user='root',\n",
    "                                 password='spt3ch',\n",
    "                                 database='projeto_algas',\n",
    "                                 cursorclass=pymysql.cursors.DictCursor)\n",
    "    \n",
    "def enviar_dados_range(dados):  \n",
    "    connection = executar_connection()\n",
    "    with connection:\n",
    "        with connection.cursor() as cursor:\n",
    "                sql = \"insert into `perfomance_range`(`range_value`,`time_spent`,`memory_usage`) values ('%s', %s, %s)\" %(dados['range_value'], dados['time_spent'],dados['memory_usage'])\n",
    "                cursor.execute(sql)\n",
    "                id_range = cursor.lastrowid\n",
    "        connection.commit()\n",
    "    return id_range;\n",
    "\n",
    "def enviar_dados(dados, id_range):  \n",
    "    connection = executar_connection()\n",
    "    with connection:\n",
    "        with connection.cursor() as cursor:\n",
    "                for i in dados:\n",
    "                    sql = \"insert into `acumul_acelerate`(`iterador`,`acumul`,`time_spent`,`memory_usage`,`fk_range`) values (%s, %s, %s, %s, %s)\" %(i['iterador'], i['acumul'],i['time_spent'],i['memory_usage'], id_range)\n",
    "                    cursor.execute(sql)\n",
    "        connection.commit()\n",
    "\n",
    "main(100_000, 600_000, 100_000)\n",
    "main(1_000, 6_000, 100)\n",
    "main(100, 600, 100)\n",
    "main(10, 60, 10)\n",
    "main(1_000_000, 6_000_000, 1_000_000)\n"
   ]
  },
  {
   "cell_type": "code",
   "execution_count": null,
   "id": "2ccec3f4",
   "metadata": {},
   "outputs": [],
   "source": []
  }
 ],
 "metadata": {
  "kernelspec": {
   "display_name": "Python 3 (ipykernel)",
   "language": "python",
   "name": "python3"
  },
  "language_info": {
   "codemirror_mode": {
    "name": "ipython",
    "version": 3
   },
   "file_extension": ".py",
   "mimetype": "text/x-python",
   "name": "python",
   "nbconvert_exporter": "python",
   "pygments_lexer": "ipython3",
   "version": "3.9.7"
  }
 },
 "nbformat": 4,
 "nbformat_minor": 5
}
